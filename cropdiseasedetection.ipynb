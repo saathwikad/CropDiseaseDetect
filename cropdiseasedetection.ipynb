{
 "cells": [
  {
   "cell_type": "code",
   "execution_count": 1,
   "id": "ddd81c98",
   "metadata": {
    "_cell_guid": "b1076dfc-b9ad-4769-8c92-a6c4dae69d19",
    "_uuid": "8f2839f25d086af736a60e9eeb907d3b93b6e0e5",
    "execution": {
     "iopub.execute_input": "2024-02-24T04:32:07.314593Z",
     "iopub.status.busy": "2024-02-24T04:32:07.313711Z",
     "iopub.status.idle": "2024-02-24T04:32:08.050599Z",
     "shell.execute_reply": "2024-02-24T04:32:08.049461Z"
    },
    "papermill": {
     "duration": 0.744932,
     "end_time": "2024-02-24T04:32:08.053199",
     "exception": false,
     "start_time": "2024-02-24T04:32:07.308267",
     "status": "completed"
    },
    "tags": []
   },
   "outputs": [],
   "source": [
    "# This Python 3 environment comes with many helpful analytics libraries installed\n",
    "# It is defined by the kaggle/python Docker image: https://github.com/kaggle/docker-python\n",
    "# For example, here's several helpful packages to load\n",
    "\n",
    "import numpy as np # linear algebra\n",
    "import pandas as pd # data processing, CSV file I/O (e.g. pd.read_csv)\n",
    "\n",
    "# Input data files are available in the read-only \"../input/\" directory\n",
    "# For example, running this (by clicking run or pressing Shift+Enter) will list all files under the input directory\n",
    "\n",
    "import os\n",
    "\n",
    "# You can write up to 20GB to the current directory (/kaggle/working/) that gets preserved as output when you create a version using \"Save & Run All\" \n",
    "# You can also write temporary files to /kaggle/temp/, but they won't be saved outside of the current session"
   ]
  },
  {
   "cell_type": "code",
   "execution_count": 2,
   "id": "061eaf00",
   "metadata": {
    "execution": {
     "iopub.execute_input": "2024-02-24T04:32:08.061901Z",
     "iopub.status.busy": "2024-02-24T04:32:08.061389Z",
     "iopub.status.idle": "2024-02-24T04:32:08.067453Z",
     "shell.execute_reply": "2024-02-24T04:32:08.065661Z"
    },
    "papermill": {
     "duration": 0.013144,
     "end_time": "2024-02-24T04:32:08.070039",
     "exception": false,
     "start_time": "2024-02-24T04:32:08.056895",
     "status": "completed"
    },
    "tags": []
   },
   "outputs": [],
   "source": [
    "import numpy as np\n",
    "import pandas as pd\n",
    "import matplotlib.pyplot as plt"
   ]
  },
  {
   "cell_type": "code",
   "execution_count": 3,
   "id": "ea65ac2d",
   "metadata": {
    "execution": {
     "iopub.execute_input": "2024-02-24T04:32:08.081511Z",
     "iopub.status.busy": "2024-02-24T04:32:08.080959Z",
     "iopub.status.idle": "2024-02-24T04:32:13.874451Z",
     "shell.execute_reply": "2024-02-24T04:32:13.873383Z"
    },
    "papermill": {
     "duration": 5.801888,
     "end_time": "2024-02-24T04:32:13.876954",
     "exception": false,
     "start_time": "2024-02-24T04:32:08.075066",
     "status": "completed"
    },
    "tags": []
   },
   "outputs": [],
   "source": [
    "import torch\n",
    "from torchvision import datasets, transforms\n",
    "from torch.utils.data.sampler import SubsetRandomSampler\n",
    "import torch.nn as nn\n",
    "import torch.nn.functional as F\n",
    "from datetime import datetime"
   ]
  },
  {
   "cell_type": "code",
   "execution_count": 4,
   "id": "a6409350",
   "metadata": {
    "execution": {
     "iopub.execute_input": "2024-02-24T04:32:13.885568Z",
     "iopub.status.busy": "2024-02-24T04:32:13.884807Z",
     "iopub.status.idle": "2024-02-24T04:32:13.890164Z",
     "shell.execute_reply": "2024-02-24T04:32:13.889029Z"
    },
    "papermill": {
     "duration": 0.012298,
     "end_time": "2024-02-24T04:32:13.892654",
     "exception": false,
     "start_time": "2024-02-24T04:32:13.880356",
     "status": "completed"
    },
    "tags": []
   },
   "outputs": [],
   "source": [
    "transform = transforms.Compose(\n",
    "    [transforms.Resize(255), transforms.CenterCrop(224), transforms.ToTensor()]\n",
    ")"
   ]
  },
  {
   "cell_type": "code",
   "execution_count": 5,
   "id": "71ddf986",
   "metadata": {
    "execution": {
     "iopub.execute_input": "2024-02-24T04:32:13.900204Z",
     "iopub.status.busy": "2024-02-24T04:32:13.899891Z",
     "iopub.status.idle": "2024-02-24T04:33:04.803389Z",
     "shell.execute_reply": "2024-02-24T04:33:04.802252Z"
    },
    "papermill": {
     "duration": 50.910134,
     "end_time": "2024-02-24T04:33:04.805997",
     "exception": false,
     "start_time": "2024-02-24T04:32:13.895863",
     "status": "completed"
    },
    "tags": []
   },
   "outputs": [],
   "source": [
    "dataset = datasets.ImageFolder(\"/kaggle/input/plantdisease\", transform=transform)"
   ]
  },
  {
   "cell_type": "code",
   "execution_count": 6,
   "id": "85a85b08",
   "metadata": {
    "execution": {
     "iopub.execute_input": "2024-02-24T04:33:04.814358Z",
     "iopub.status.busy": "2024-02-24T04:33:04.814032Z",
     "iopub.status.idle": "2024-02-24T04:33:04.823740Z",
     "shell.execute_reply": "2024-02-24T04:33:04.822787Z"
    },
    "papermill": {
     "duration": 0.016336,
     "end_time": "2024-02-24T04:33:04.825918",
     "exception": false,
     "start_time": "2024-02-24T04:33:04.809582",
     "status": "completed"
    },
    "tags": []
   },
   "outputs": [
    {
     "data": {
      "text/plain": [
       "Dataset ImageFolder\n",
       "    Number of datapoints: 41276\n",
       "    Root location: /kaggle/input/plantdisease\n",
       "    StandardTransform\n",
       "Transform: Compose(\n",
       "               Resize(size=255, interpolation=bilinear, max_size=None, antialias=warn)\n",
       "               CenterCrop(size=(224, 224))\n",
       "               ToTensor()\n",
       "           )"
      ]
     },
     "execution_count": 6,
     "metadata": {},
     "output_type": "execute_result"
    }
   ],
   "source": [
    "dataset"
   ]
  },
  {
   "cell_type": "code",
   "execution_count": 7,
   "id": "9c41b150",
   "metadata": {
    "execution": {
     "iopub.execute_input": "2024-02-24T04:33:04.833685Z",
     "iopub.status.busy": "2024-02-24T04:33:04.833372Z",
     "iopub.status.idle": "2024-02-24T04:33:04.842556Z",
     "shell.execute_reply": "2024-02-24T04:33:04.841578Z"
    },
    "papermill": {
     "duration": 0.015097,
     "end_time": "2024-02-24T04:33:04.844361",
     "exception": false,
     "start_time": "2024-02-24T04:33:04.829264",
     "status": "completed"
    },
    "tags": []
   },
   "outputs": [],
   "source": [
    "indices = list(range(len(dataset)))\n",
    "split = int(np.floor(0.85 * len(dataset)))\n",
    "validation = int(np.floor(0.70 * split))\n",
    "np.random.shuffle(indices)\n",
    "train_indices, validation_indices, test_indices = (\n",
    "    indices[:validation],\n",
    "    indices[validation:split],\n",
    "    indices[split:],\n",
    ")"
   ]
  },
  {
   "cell_type": "code",
   "execution_count": 8,
   "id": "c5acea97",
   "metadata": {
    "execution": {
     "iopub.execute_input": "2024-02-24T04:33:04.852504Z",
     "iopub.status.busy": "2024-02-24T04:33:04.851683Z",
     "iopub.status.idle": "2024-02-24T04:33:04.857307Z",
     "shell.execute_reply": "2024-02-24T04:33:04.856666Z"
    },
    "papermill": {
     "duration": 0.011469,
     "end_time": "2024-02-24T04:33:04.859072",
     "exception": false,
     "start_time": "2024-02-24T04:33:04.847603",
     "status": "completed"
    },
    "tags": []
   },
   "outputs": [
    {
     "name": "stdout",
     "output_type": "stream",
     "text": [
      "15\n"
     ]
    }
   ],
   "source": [
    "import os\n",
    "\n",
    "path_to_folder = r\"/kaggle/input/plantdisease/PlantVillage\"\n",
    "subdirectories = [f.path for f in os.scandir(path_to_folder) if f.is_dir()]\n",
    "\n",
    "print(len(subdirectories))"
   ]
  },
  {
   "cell_type": "code",
   "execution_count": 9,
   "id": "6a5feb85",
   "metadata": {
    "execution": {
     "iopub.execute_input": "2024-02-24T04:33:04.867336Z",
     "iopub.status.busy": "2024-02-24T04:33:04.866522Z",
     "iopub.status.idle": "2024-02-24T04:33:04.870524Z",
     "shell.execute_reply": "2024-02-24T04:33:04.869886Z"
    },
    "papermill": {
     "duration": 0.00973,
     "end_time": "2024-02-24T04:33:04.872223",
     "exception": false,
     "start_time": "2024-02-24T04:33:04.862493",
     "status": "completed"
    },
    "tags": []
   },
   "outputs": [],
   "source": [
    "train_sampler = SubsetRandomSampler(train_indices)\n",
    "validation_sampler = SubsetRandomSampler(validation_indices)\n",
    "test_sampler = SubsetRandomSampler(test_indices)"
   ]
  },
  {
   "cell_type": "code",
   "execution_count": null,
   "id": "ac676771",
   "metadata": {
    "papermill": {
     "duration": 0.003086,
     "end_time": "2024-02-24T04:33:04.878622",
     "exception": false,
     "start_time": "2024-02-24T04:33:04.875536",
     "status": "completed"
    },
    "tags": []
   },
   "outputs": [],
   "source": []
  },
  {
   "cell_type": "code",
   "execution_count": null,
   "id": "a5cad9d4",
   "metadata": {
    "papermill": {
     "duration": 0.003067,
     "end_time": "2024-02-24T04:33:04.885017",
     "exception": false,
     "start_time": "2024-02-24T04:33:04.881950",
     "status": "completed"
    },
    "tags": []
   },
   "outputs": [],
   "source": []
  },
  {
   "cell_type": "code",
   "execution_count": null,
   "id": "13289bdf",
   "metadata": {
    "papermill": {
     "duration": 0.003211,
     "end_time": "2024-02-24T04:33:04.891442",
     "exception": false,
     "start_time": "2024-02-24T04:33:04.888231",
     "status": "completed"
    },
    "tags": []
   },
   "outputs": [],
   "source": []
  }
 ],
 "metadata": {
  "kaggle": {
   "accelerator": "none",
   "dataSources": [
    {
     "datasetId": 70909,
     "sourceId": 150545,
     "sourceType": "datasetVersion"
    }
   ],
   "dockerImageVersionId": 30646,
   "isGpuEnabled": false,
   "isInternetEnabled": false,
   "language": "python",
   "sourceType": "notebook"
  },
  "kernelspec": {
   "display_name": "Python 3",
   "language": "python",
   "name": "python3"
  },
  "language_info": {
   "codemirror_mode": {
    "name": "ipython",
    "version": 3
   },
   "file_extension": ".py",
   "mimetype": "text/x-python",
   "name": "python",
   "nbconvert_exporter": "python",
   "pygments_lexer": "ipython3",
   "version": "3.10.13"
  },
  "papermill": {
   "default_parameters": {},
   "duration": 61.469511,
   "end_time": "2024-02-24T04:33:06.016477",
   "environment_variables": {},
   "exception": null,
   "input_path": "__notebook__.ipynb",
   "output_path": "__notebook__.ipynb",
   "parameters": {},
   "start_time": "2024-02-24T04:32:04.546966",
   "version": "2.5.0"
  }
 },
 "nbformat": 4,
 "nbformat_minor": 5
}
